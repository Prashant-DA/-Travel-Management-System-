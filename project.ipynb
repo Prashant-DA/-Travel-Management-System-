{
 "cells": [
  {
   "cell_type": "code",
   "execution_count": 1,
   "id": "c7665a25-0a4b-4f90-958a-97da985482e8",
   "metadata": {},
   "outputs": [],
   "source": [
    "# project : STUDENT MANAGEMENT SYSTEM\n",
    "# 1) ADD INCLUDING HOW MANY ENTRIES DO WE WANT TO ADD\n",
    "# 2) SEARCH\n",
    "# 3) DELETE\n",
    "# 4) ALL CONTACTS\n",
    "\n"
   ]
  },
  {
   "cell_type": "code",
   "execution_count": 3,
   "id": "6de997a0-2604-4db1-baa6-9ce5cd4d4fe5",
   "metadata": {},
   "outputs": [
    {
     "name": "stdout",
     "output_type": "stream",
     "text": [
      "add contact **\t \n"
     ]
    },
    {
     "ename": "KeyboardInterrupt",
     "evalue": "Interrupted by user",
     "output_type": "error",
     "traceback": [
      "\u001b[1;31m---------------------------------------------------------------------------\u001b[0m",
      "\u001b[1;31mKeyboardInterrupt\u001b[0m                         Traceback (most recent call last)",
      "Cell \u001b[1;32mIn[3], line 5\u001b[0m\n\u001b[0;32m      3\u001b[0m \u001b[38;5;28;01mwhile\u001b[39;00m run:\n\u001b[0;32m      4\u001b[0m     \u001b[38;5;28mprint\u001b[39m(\u001b[38;5;124m\"\u001b[39m\u001b[38;5;124madd contact **\u001b[39m\u001b[38;5;130;01m\\t\u001b[39;00m\u001b[38;5;124m \u001b[39m\u001b[38;5;124m\"\u001b[39m)\n\u001b[1;32m----> 5\u001b[0m     choice \u001b[38;5;241m=\u001b[39m \u001b[38;5;28minput\u001b[39m(\u001b[38;5;124m\"\u001b[39m\u001b[38;5;124mwhich operation do you want to perform?\u001b[39m\u001b[38;5;124m\"\u001b[39m)\n\u001b[0;32m      6\u001b[0m     \u001b[38;5;28;01mif\u001b[39;00m choice\u001b[38;5;241m==\u001b[39m\u001b[38;5;124m\"\u001b[39m\u001b[38;5;124madd\u001b[39m\u001b[38;5;124m\"\u001b[39m:\n\u001b[0;32m      7\u001b[0m         num_contact \u001b[38;5;241m=\u001b[39m \u001b[38;5;28mint\u001b[39m(\u001b[38;5;28minput\u001b[39m(\u001b[38;5;124m\"\u001b[39m\u001b[38;5;124mhow many contact do you want to add?\u001b[39m\u001b[38;5;124m\"\u001b[39m))\n",
      "File \u001b[1;32m~\\anaconda3\\Lib\\site-packages\\ipykernel\\kernelbase.py:1262\u001b[0m, in \u001b[0;36mKernel.raw_input\u001b[1;34m(self, prompt)\u001b[0m\n\u001b[0;32m   1260\u001b[0m     msg \u001b[38;5;241m=\u001b[39m \u001b[38;5;124m\"\u001b[39m\u001b[38;5;124mraw_input was called, but this frontend does not support input requests.\u001b[39m\u001b[38;5;124m\"\u001b[39m\n\u001b[0;32m   1261\u001b[0m     \u001b[38;5;28;01mraise\u001b[39;00m StdinNotImplementedError(msg)\n\u001b[1;32m-> 1262\u001b[0m \u001b[38;5;28;01mreturn\u001b[39;00m \u001b[38;5;28mself\u001b[39m\u001b[38;5;241m.\u001b[39m_input_request(\n\u001b[0;32m   1263\u001b[0m     \u001b[38;5;28mstr\u001b[39m(prompt),\n\u001b[0;32m   1264\u001b[0m     \u001b[38;5;28mself\u001b[39m\u001b[38;5;241m.\u001b[39m_parent_ident[\u001b[38;5;124m\"\u001b[39m\u001b[38;5;124mshell\u001b[39m\u001b[38;5;124m\"\u001b[39m],\n\u001b[0;32m   1265\u001b[0m     \u001b[38;5;28mself\u001b[39m\u001b[38;5;241m.\u001b[39mget_parent(\u001b[38;5;124m\"\u001b[39m\u001b[38;5;124mshell\u001b[39m\u001b[38;5;124m\"\u001b[39m),\n\u001b[0;32m   1266\u001b[0m     password\u001b[38;5;241m=\u001b[39m\u001b[38;5;28;01mFalse\u001b[39;00m,\n\u001b[0;32m   1267\u001b[0m )\n",
      "File \u001b[1;32m~\\anaconda3\\Lib\\site-packages\\ipykernel\\kernelbase.py:1305\u001b[0m, in \u001b[0;36mKernel._input_request\u001b[1;34m(self, prompt, ident, parent, password)\u001b[0m\n\u001b[0;32m   1302\u001b[0m \u001b[38;5;28;01mexcept\u001b[39;00m \u001b[38;5;167;01mKeyboardInterrupt\u001b[39;00m:\n\u001b[0;32m   1303\u001b[0m     \u001b[38;5;66;03m# re-raise KeyboardInterrupt, to truncate traceback\u001b[39;00m\n\u001b[0;32m   1304\u001b[0m     msg \u001b[38;5;241m=\u001b[39m \u001b[38;5;124m\"\u001b[39m\u001b[38;5;124mInterrupted by user\u001b[39m\u001b[38;5;124m\"\u001b[39m\n\u001b[1;32m-> 1305\u001b[0m     \u001b[38;5;28;01mraise\u001b[39;00m \u001b[38;5;167;01mKeyboardInterrupt\u001b[39;00m(msg) \u001b[38;5;28;01mfrom\u001b[39;00m \u001b[38;5;28;01mNone\u001b[39;00m\n\u001b[0;32m   1306\u001b[0m \u001b[38;5;28;01mexcept\u001b[39;00m \u001b[38;5;167;01mException\u001b[39;00m:\n\u001b[0;32m   1307\u001b[0m     \u001b[38;5;28mself\u001b[39m\u001b[38;5;241m.\u001b[39mlog\u001b[38;5;241m.\u001b[39mwarning(\u001b[38;5;124m\"\u001b[39m\u001b[38;5;124mInvalid Message:\u001b[39m\u001b[38;5;124m\"\u001b[39m, exc_info\u001b[38;5;241m=\u001b[39m\u001b[38;5;28;01mTrue\u001b[39;00m)\n",
      "\u001b[1;31mKeyboardInterrupt\u001b[0m: Interrupted by user"
     ]
    }
   ],
   "source": [
    "contact_book={}\n",
    "run=True\n",
    "while run:\n",
    "    print(\"add contact **\\t \")\n",
    "    choice = input(\"which operation do you want to perform?\")\n",
    "    if choice==\"add\":\n",
    "        num_contact = int(input(\"how many contact do you want to add?\"))\n",
    "        for _ in range(num_contact):\n",
    "            name = input(\"enter your name:\")\n",
    "            number= input(\"enter your number:\")\n",
    "            contact_book[name] = number\n",
    "            print(f\"Added: {name}-{number}\")\n",
    "    elif choice==\"search\":\n",
    "        name=input(\"which name you want to search:\")\n",
    "        if name in contact_book:\n",
    "            print(f\"{name}-{number}\")\n",
    "    elif choice==\"delete\":\n",
    "        name=input(\"which name you want to delete:\")\n",
    "        del contact_book[name]\n",
    "        print(f\"delete contact: {name}\")\n",
    "        \n",
    "     elif choice.upper==\"all contact\":\n",
    "        print(\"all contact\")\n",
    "        "
   ]
  },
  {
   "cell_type": "code",
   "execution_count": 53,
   "id": "7726b9b9-2e5a-4b76-bece-046fc802cc02",
   "metadata": {},
   "outputs": [
    {
     "name": "stdout",
     "output_type": "stream",
     "text": [
      "Options: add, search, delete, all contact, quit\n"
     ]
    },
    {
     "ename": "KeyboardInterrupt",
     "evalue": "Interrupted by user",
     "output_type": "error",
     "traceback": [
      "\u001b[1;31m---------------------------------------------------------------------------\u001b[0m",
      "\u001b[1;31mKeyboardInterrupt\u001b[0m                         Traceback (most recent call last)",
      "Cell \u001b[1;32mIn[53], line 6\u001b[0m\n\u001b[0;32m      4\u001b[0m \u001b[38;5;28;01mwhile\u001b[39;00m run:\n\u001b[0;32m      5\u001b[0m     \u001b[38;5;28mprint\u001b[39m(\u001b[38;5;124m\"\u001b[39m\u001b[38;5;124mOptions: add, search, delete, all contact, quit\u001b[39m\u001b[38;5;124m\"\u001b[39m)\n\u001b[1;32m----> 6\u001b[0m     choice \u001b[38;5;241m=\u001b[39m \u001b[38;5;28minput\u001b[39m(\u001b[38;5;124m\"\u001b[39m\u001b[38;5;124mWhich operation do you want to perform? \u001b[39m\u001b[38;5;124m\"\u001b[39m)\n\u001b[0;32m      8\u001b[0m     \u001b[38;5;28;01mif\u001b[39;00m choice \u001b[38;5;241m==\u001b[39m \u001b[38;5;124m\"\u001b[39m\u001b[38;5;124madd\u001b[39m\u001b[38;5;124m\"\u001b[39m:\n\u001b[0;32m      9\u001b[0m         num_contact \u001b[38;5;241m=\u001b[39m \u001b[38;5;28mint\u001b[39m(\u001b[38;5;28minput\u001b[39m(\u001b[38;5;124m\"\u001b[39m\u001b[38;5;124mHow many contacts do you want to add? \u001b[39m\u001b[38;5;124m\"\u001b[39m))\n",
      "File \u001b[1;32m~\\anaconda3\\Lib\\site-packages\\ipykernel\\kernelbase.py:1262\u001b[0m, in \u001b[0;36mKernel.raw_input\u001b[1;34m(self, prompt)\u001b[0m\n\u001b[0;32m   1260\u001b[0m     msg \u001b[38;5;241m=\u001b[39m \u001b[38;5;124m\"\u001b[39m\u001b[38;5;124mraw_input was called, but this frontend does not support input requests.\u001b[39m\u001b[38;5;124m\"\u001b[39m\n\u001b[0;32m   1261\u001b[0m     \u001b[38;5;28;01mraise\u001b[39;00m StdinNotImplementedError(msg)\n\u001b[1;32m-> 1262\u001b[0m \u001b[38;5;28;01mreturn\u001b[39;00m \u001b[38;5;28mself\u001b[39m\u001b[38;5;241m.\u001b[39m_input_request(\n\u001b[0;32m   1263\u001b[0m     \u001b[38;5;28mstr\u001b[39m(prompt),\n\u001b[0;32m   1264\u001b[0m     \u001b[38;5;28mself\u001b[39m\u001b[38;5;241m.\u001b[39m_parent_ident[\u001b[38;5;124m\"\u001b[39m\u001b[38;5;124mshell\u001b[39m\u001b[38;5;124m\"\u001b[39m],\n\u001b[0;32m   1265\u001b[0m     \u001b[38;5;28mself\u001b[39m\u001b[38;5;241m.\u001b[39mget_parent(\u001b[38;5;124m\"\u001b[39m\u001b[38;5;124mshell\u001b[39m\u001b[38;5;124m\"\u001b[39m),\n\u001b[0;32m   1266\u001b[0m     password\u001b[38;5;241m=\u001b[39m\u001b[38;5;28;01mFalse\u001b[39;00m,\n\u001b[0;32m   1267\u001b[0m )\n",
      "File \u001b[1;32m~\\anaconda3\\Lib\\site-packages\\ipykernel\\kernelbase.py:1305\u001b[0m, in \u001b[0;36mKernel._input_request\u001b[1;34m(self, prompt, ident, parent, password)\u001b[0m\n\u001b[0;32m   1302\u001b[0m \u001b[38;5;28;01mexcept\u001b[39;00m \u001b[38;5;167;01mKeyboardInterrupt\u001b[39;00m:\n\u001b[0;32m   1303\u001b[0m     \u001b[38;5;66;03m# re-raise KeyboardInterrupt, to truncate traceback\u001b[39;00m\n\u001b[0;32m   1304\u001b[0m     msg \u001b[38;5;241m=\u001b[39m \u001b[38;5;124m\"\u001b[39m\u001b[38;5;124mInterrupted by user\u001b[39m\u001b[38;5;124m\"\u001b[39m\n\u001b[1;32m-> 1305\u001b[0m     \u001b[38;5;28;01mraise\u001b[39;00m \u001b[38;5;167;01mKeyboardInterrupt\u001b[39;00m(msg) \u001b[38;5;28;01mfrom\u001b[39;00m \u001b[38;5;28;01mNone\u001b[39;00m\n\u001b[0;32m   1306\u001b[0m \u001b[38;5;28;01mexcept\u001b[39;00m \u001b[38;5;167;01mException\u001b[39;00m:\n\u001b[0;32m   1307\u001b[0m     \u001b[38;5;28mself\u001b[39m\u001b[38;5;241m.\u001b[39mlog\u001b[38;5;241m.\u001b[39mwarning(\u001b[38;5;124m\"\u001b[39m\u001b[38;5;124mInvalid Message:\u001b[39m\u001b[38;5;124m\"\u001b[39m, exc_info\u001b[38;5;241m=\u001b[39m\u001b[38;5;28;01mTrue\u001b[39;00m)\n",
      "\u001b[1;31mKeyboardInterrupt\u001b[0m: Interrupted by user"
     ]
    }
   ],
   "source": [
    "contact_book = {}\n",
    "\n",
    "\n",
    "while run:\n",
    "    print(\"Options: add, search, delete, all contact, quit\")\n",
    "    choice = input(\"Which operation do you want to perform? \")\n",
    "    \n",
    "    if choice == \"add\":\n",
    "        num_contact = int(input(\"How many contacts do you want to add? \"))\n",
    "        for _ in range(num_contact):\n",
    "            name = input(\"Enter the name: \")\n",
    "            number = input(\"Enter the number: \")\n",
    "            contact_book[name] = number\n",
    "            print(f\"Added: {name} - {number}\")\n",
    "    \n",
    "    elif choice == \"search\":\n",
    "        name = input(\"Which name do you want to search? \")\n",
    "        if name in contact_book:\n",
    "            print(f\"{name} - {contact_book[name]}\")\n",
    "        else:\n",
    "            print(\"Contact not found.\")\n",
    "    \n",
    "    elif choice == \"delete\":\n",
    "        name = input(\"Which name do you want to delete? \")\n",
    "        if name in contact_book:\n",
    "            del contact_book[name]\n",
    "            print(f\"Deleted contact: {name}\")\n",
    "        else:\n",
    "            print(\"Contact not found.\")\n",
    "    \n",
    "    elif choice == \"all contact\":\n",
    "        if contact_book:\n",
    "            print(\"All contacts:\")\n",
    "            for name, number in contact_book.items():\n",
    "                print(f\"{name} - {number}\")\n",
    "        else:\n",
    "            print(\"No contacts available.\")\n",
    "    \n",
    "    elif choice == \"quit\":\n",
    "        run = False\n",
    "        print(\"Exiting the program.\")\n",
    "    \n",
    "    else:\n",
    "        print(\"Invalid choice. Please try again.\")\n"
   ]
  },
  {
   "cell_type": "code",
   "execution_count": 13,
   "id": "a161db97-0327-47a2-af47-b7bd5fd56d11",
   "metadata": {},
   "outputs": [
    {
     "name": "stdin",
     "output_type": "stream",
     "text": [
      "how many entries do you want to add? 2\n",
      "enter the name rhaul\n",
      "enter your age 23\n",
      "enter your number 234\n",
      "what is your hobby 14241\n"
     ]
    },
    {
     "name": "stdout",
     "output_type": "stream",
     "text": [
      "added\n"
     ]
    },
    {
     "name": "stdin",
     "output_type": "stream",
     "text": [
      "enter the name prashant\n",
      "enter your age 23\n",
      "enter your number 234125\n",
      "what is your hobby help\n"
     ]
    },
    {
     "name": "stdout",
     "output_type": "stream",
     "text": [
      "added\n"
     ]
    },
    {
     "name": "stdin",
     "output_type": "stream",
     "text": [
      "which name do you want to search? rahul\n"
     ]
    },
    {
     "ename": "KeyboardInterrupt",
     "evalue": "Interrupted by user",
     "output_type": "error",
     "traceback": [
      "\u001b[1;31m---------------------------------------------------------------------------\u001b[0m",
      "\u001b[1;31mKeyboardInterrupt\u001b[0m                         Traceback (most recent call last)",
      "Cell \u001b[1;32mIn[13], line 29\u001b[0m\n\u001b[0;32m     27\u001b[0m         \u001b[38;5;28;01melse\u001b[39;00m:\n\u001b[0;32m     28\u001b[0m             \u001b[38;5;28mprint\u001b[39m(\u001b[38;5;124m\"\u001b[39m\u001b[38;5;124msorry not found\u001b[39m\u001b[38;5;124m\"\u001b[39m)\n\u001b[1;32m---> 29\u001b[0m remove()\n\u001b[0;32m     30\u001b[0m \u001b[38;5;28;01mdef\u001b[39;00m \u001b[38;5;21mdisplay\u001b[39m():\n\u001b[0;32m     31\u001b[0m     \u001b[38;5;28mprint\u001b[39m(students)\n",
      "Cell \u001b[1;32mIn[13], line 23\u001b[0m, in \u001b[0;36mremove\u001b[1;34m()\u001b[0m\n\u001b[0;32m     22\u001b[0m \u001b[38;5;28;01mdef\u001b[39;00m \u001b[38;5;21mremove\u001b[39m():\n\u001b[1;32m---> 23\u001b[0m     remove1\u001b[38;5;241m=\u001b[39m\u001b[38;5;28minput\u001b[39m(\u001b[38;5;124m\"\u001b[39m\u001b[38;5;124menter the name you want to remove\u001b[39m\u001b[38;5;124m\"\u001b[39m)\n\u001b[0;32m     24\u001b[0m     \u001b[38;5;28;01mfor\u001b[39;00m student \u001b[38;5;129;01min\u001b[39;00m students:\n\u001b[0;32m     25\u001b[0m         \u001b[38;5;28;01mif\u001b[39;00m student[\u001b[38;5;124m\"\u001b[39m\u001b[38;5;124mname\u001b[39m\u001b[38;5;124m\"\u001b[39m]\u001b[38;5;241m==\u001b[39mremove1:\n",
      "File \u001b[1;32m~\\anaconda3\\Lib\\site-packages\\ipykernel\\kernelbase.py:1262\u001b[0m, in \u001b[0;36mKernel.raw_input\u001b[1;34m(self, prompt)\u001b[0m\n\u001b[0;32m   1260\u001b[0m     msg \u001b[38;5;241m=\u001b[39m \u001b[38;5;124m\"\u001b[39m\u001b[38;5;124mraw_input was called, but this frontend does not support input requests.\u001b[39m\u001b[38;5;124m\"\u001b[39m\n\u001b[0;32m   1261\u001b[0m     \u001b[38;5;28;01mraise\u001b[39;00m StdinNotImplementedError(msg)\n\u001b[1;32m-> 1262\u001b[0m \u001b[38;5;28;01mreturn\u001b[39;00m \u001b[38;5;28mself\u001b[39m\u001b[38;5;241m.\u001b[39m_input_request(\n\u001b[0;32m   1263\u001b[0m     \u001b[38;5;28mstr\u001b[39m(prompt),\n\u001b[0;32m   1264\u001b[0m     \u001b[38;5;28mself\u001b[39m\u001b[38;5;241m.\u001b[39m_parent_ident[\u001b[38;5;124m\"\u001b[39m\u001b[38;5;124mshell\u001b[39m\u001b[38;5;124m\"\u001b[39m],\n\u001b[0;32m   1265\u001b[0m     \u001b[38;5;28mself\u001b[39m\u001b[38;5;241m.\u001b[39mget_parent(\u001b[38;5;124m\"\u001b[39m\u001b[38;5;124mshell\u001b[39m\u001b[38;5;124m\"\u001b[39m),\n\u001b[0;32m   1266\u001b[0m     password\u001b[38;5;241m=\u001b[39m\u001b[38;5;28;01mFalse\u001b[39;00m,\n\u001b[0;32m   1267\u001b[0m )\n",
      "File \u001b[1;32m~\\anaconda3\\Lib\\site-packages\\ipykernel\\kernelbase.py:1305\u001b[0m, in \u001b[0;36mKernel._input_request\u001b[1;34m(self, prompt, ident, parent, password)\u001b[0m\n\u001b[0;32m   1302\u001b[0m \u001b[38;5;28;01mexcept\u001b[39;00m \u001b[38;5;167;01mKeyboardInterrupt\u001b[39;00m:\n\u001b[0;32m   1303\u001b[0m     \u001b[38;5;66;03m# re-raise KeyboardInterrupt, to truncate traceback\u001b[39;00m\n\u001b[0;32m   1304\u001b[0m     msg \u001b[38;5;241m=\u001b[39m \u001b[38;5;124m\"\u001b[39m\u001b[38;5;124mInterrupted by user\u001b[39m\u001b[38;5;124m\"\u001b[39m\n\u001b[1;32m-> 1305\u001b[0m     \u001b[38;5;28;01mraise\u001b[39;00m \u001b[38;5;167;01mKeyboardInterrupt\u001b[39;00m(msg) \u001b[38;5;28;01mfrom\u001b[39;00m \u001b[38;5;28;01mNone\u001b[39;00m\n\u001b[0;32m   1306\u001b[0m \u001b[38;5;28;01mexcept\u001b[39;00m \u001b[38;5;167;01mException\u001b[39;00m:\n\u001b[0;32m   1307\u001b[0m     \u001b[38;5;28mself\u001b[39m\u001b[38;5;241m.\u001b[39mlog\u001b[38;5;241m.\u001b[39mwarning(\u001b[38;5;124m\"\u001b[39m\u001b[38;5;124mInvalid Message:\u001b[39m\u001b[38;5;124m\"\u001b[39m, exc_info\u001b[38;5;241m=\u001b[39m\u001b[38;5;28;01mTrue\u001b[39;00m)\n",
      "\u001b[1;31mKeyboardInterrupt\u001b[0m: Interrupted by user"
     ]
    }
   ],
   "source": [
    "# STUDENT MANAGMENT SYSTEM(ADD, SEARCH ,DELETE,ALL CONTACTS)\n",
    "students=[]\n",
    "def add():\n",
    "    entery=int(input(\"how many entries do you want to add?\"))\n",
    "    for i in range(entery):\n",
    "        name=input(\"enter the name\")\n",
    "        age=int(input(\"enter your age\"))\n",
    "        contact_num=int(input(\"enter your number\"))\n",
    "        hobby=input(\"what is your hobby\")\n",
    "        studnet={\"name\":name,\"age\":age,\"contact_num\":contact_num,\"hobby\":hobby}\n",
    "        students.append(studnet)\n",
    "        print(\"added\")\n",
    "add()\n",
    "def search():\n",
    "    search1=input(\"which name do you want to search?\")\n",
    "    for student in students:\n",
    "        if student[\"name\"]==search1:\n",
    "            print(student)\n",
    "        # else:\n",
    "        #     print(\"not found\")\n",
    "search()\n",
    "def remove():\n",
    "    remove1=input(\"enter the name you want to remove\")\n",
    "    for student in students:\n",
    "        if student[\"name\"]==remove1:\n",
    "            students.remove(student)\n",
    "        else:\n",
    "            print(\"sorry not found\")\n",
    "remove()\n",
    "def display():\n",
    "    print(students)\n",
    "display()"
   ]
  },
  {
   "cell_type": "code",
   "execution_count": null,
   "id": "2aa739de-e73a-4b0a-aebe-c46efa10f444",
   "metadata": {},
   "outputs": [],
   "source": [
    "# restuarant\n",
    "# how many people enter\n",
    "# how lunch or drink \n",
    "# bill\n",
    "# tip\n"
   ]
  },
  {
   "cell_type": "code",
   "execution_count": null,
   "id": "9cccb71a-6081-45d6-a3e8-1a292e9c585a",
   "metadata": {},
   "outputs": [],
   "source": [
    "# hotel management\n",
    "# how many rooms \n",
    "# check in check out\n",
    "# bill \n"
   ]
  },
  {
   "cell_type": "code",
   "execution_count": null,
   "id": "8e7ba905-05dd-4503-ba01-ccf1bd6c6360",
   "metadata": {},
   "outputs": [],
   "source": [
    "# bank management system\n",
    "# account created\n",
    "# deposit\n",
    "# withdraw\n",
    "# balance\n"
   ]
  },
  {
   "cell_type": "code",
   "execution_count": null,
   "id": "2d9766be-4a4c-4b27-8e97-886375224ed2",
   "metadata": {},
   "outputs": [],
   "source": [
    "# faction \n",
    "# shoping\n"
   ]
  },
  {
   "cell_type": "code",
   "execution_count": 38,
   "id": "5ea8a58f-6803-480e-b4b3-250a98a95eac",
   "metadata": {},
   "outputs": [
    {
     "ename": "SyntaxError",
     "evalue": "invalid syntax (3212414745.py, line 27)",
     "output_type": "error",
     "traceback": [
      "\u001b[1;36m  Cell \u001b[1;32mIn[38], line 27\u001b[1;36m\u001b[0m\n\u001b[1;33m    elif choice == \"witdraw\":\u001b[0m\n\u001b[1;37m    ^\u001b[0m\n\u001b[1;31mSyntaxError\u001b[0m\u001b[1;31m:\u001b[0m invalid syntax\n"
     ]
    }
   ],
   "source": [
    "# bank management system\n",
    "# account created\n",
    "# deposit\n",
    "# withdraw\n",
    "# balance\n",
    "account_num = {}\n",
    "run=True\n",
    "while run:\n",
    "    print(\"Options: account created, deposit, withdraw, balance\")\n",
    "    choice = input(\"what do you want to search to create\")\n",
    "    if choice==\"account created\":\n",
    "         num_account = int(input(\"How many account you created? \"))\n",
    "         for i in range(num_account):\n",
    "            name = input(\"Enter the name: \")\n",
    "            number = input(\"Enter the account number: \")\n",
    "            account_num[name] = number\n",
    "            print(f\": {name} - {number}\")\n",
    "    \n",
    "    elif choice==\"deposit\":\n",
    "            name = input(\"enter the account name to deposit money\")\n",
    "            price = int(input(\"enter the deposit amount\"))\n",
    "            if name in account_num:\n",
    "                print(f\"deposited amount,  {name}- acount number {number}- amount depostied {price}\")\n",
    "    else:\n",
    "        print(\"name not found\")\n",
    "\n",
    "    elif choice == \"witdraw\":\n",
    "        name = input(\"enter the account name to withdraw money\")\n",
    "        amount = int(input(\"how much amount withdraw\")\n",
    "        \n"
   ]
  },
  {
   "cell_type": "code",
   "execution_count": null,
   "id": "37c2b0e6-f63f-4e92-9f1a-ee275f295909",
   "metadata": {},
   "outputs": [
    {
     "name": "stdout",
     "output_type": "stream",
     "text": [
      "Options: account create, deposit, withdraw, balance, quit\n"
     ]
    },
    {
     "name": "stdin",
     "output_type": "stream",
     "text": [
      "What do you want to do?  prashant\n"
     ]
    },
    {
     "name": "stdout",
     "output_type": "stream",
     "text": [
      "Invalid choice. Please try again.\n",
      "Options: account create, deposit, withdraw, balance, quit\n"
     ]
    },
    {
     "name": "stdin",
     "output_type": "stream",
     "text": [
      "What do you want to do?  account created\n"
     ]
    },
    {
     "name": "stdout",
     "output_type": "stream",
     "text": [
      "Invalid choice. Please try again.\n",
      "Options: account create, deposit, withdraw, balance, quit\n"
     ]
    }
   ],
   "source": [
    "account_num = {}\n",
    "run = True\n",
    "\n",
    "while run:\n",
    "    print(\"Options: account create, deposit, withdraw, balance, quit\")\n",
    "    choice = input(\"What do you want to do? \").lower()\n",
    "    \n",
    "    if choice == \"account create\":\n",
    "        num_account = int(input(\"How many accounts do you want to create? \"))\n",
    "        for i in range(num_account):\n",
    "            name = input(\"Enter the account holder's name: \")\n",
    "            if name in account_num:\n",
    "                print(f\"Account already exists for {name}.\")\n",
    "            else:\n",
    "                account_num[name] = {\"account_number\": input(\"Enter the account number: \"), \"balance\": 0}\n",
    "                print(f\"Account created: {name} - Account Number: {account_num[name]['account_number']}\")\n",
    "    \n",
    "    elif choice == \"deposit\":\n",
    "        name = input(\"Enter the account holder's name to deposit money: \")\n",
    "        if name in account_num:\n",
    "            deposit_amount = int(input(\"Enter the deposit amount: \"))\n",
    "            account_num[name][\"balance\"] += deposit_amount\n",
    "            print(f\"Deposited amount: {deposit_amount}. Current Balance: {account_num[name]['balance']}\")\n",
    "        else:\n",
    "            print(\"Account not found.\")\n",
    "    \n",
    "    elif choice == \"withdraw\":\n",
    "        name = input(\"Enter the account holder's name to withdraw money: \")\n",
    "        if name in account_num:\n",
    "            withdraw_amount = int(input(\"Enter the amount to withdraw: \"))\n",
    "            if withdraw_amount <= account_num[name][\"balance\"]:\n",
    "                account_num[name][\"balance\"] -= withdraw_amount\n",
    "                print(f\"Withdrew amount: {withdraw_amount}. Current Balance: {account_num[name]['balance']}\")\n",
    "            else:\n",
    "                print(\"Insufficient balance.\")\n",
    "        else:\n",
    "            print(\"Account not found.\")\n",
    "    \n",
    "    elif choice == \"balance\":\n",
    "        name = input(\"Enter the account holder's name to check the balance: \")\n",
    "        if name in account_num:\n",
    "            print(f\"Account Balance for {name}: {account_num[name]['balance']}\")\n",
    "        else:\n",
    "            print(\"Account not found.\")\n",
    "    \n",
    "    elif choice == \"quit\":\n",
    "        run = False\n",
    "        print(\"Exiting the program.\")\n",
    "    \n",
    "    else:\n",
    "        print(\"Invalid choice. Please try again.\")\n"
   ]
  },
  {
   "cell_type": "code",
   "execution_count": null,
   "id": "e7bd1a13-c1b8-4527-9dcf-f9ba1742da1f",
   "metadata": {},
   "outputs": [],
   "source": []
  },
  {
   "cell_type": "code",
   "execution_count": 3,
   "id": "36ac1c3d-76be-4a95-a12e-36e0e39cd660",
   "metadata": {},
   "outputs": [
    {
     "name": "stdout",
     "output_type": "stream",
     "text": [
      "\n",
      "Options: account created, deposit, withdraw, balance, exit\n"
     ]
    },
    {
     "ename": "KeyboardInterrupt",
     "evalue": "Interrupted by user",
     "output_type": "error",
     "traceback": [
      "\u001b[1;31m---------------------------------------------------------------------------\u001b[0m",
      "\u001b[1;31mKeyboardInterrupt\u001b[0m                         Traceback (most recent call last)",
      "Cell \u001b[1;32mIn[3], line 7\u001b[0m\n\u001b[0;32m      5\u001b[0m \u001b[38;5;28;01mwhile\u001b[39;00m run:\n\u001b[0;32m      6\u001b[0m     \u001b[38;5;28mprint\u001b[39m(\u001b[38;5;124m\"\u001b[39m\u001b[38;5;130;01m\\n\u001b[39;00m\u001b[38;5;124mOptions: account created, deposit, withdraw, balance, exit\u001b[39m\u001b[38;5;124m\"\u001b[39m)\n\u001b[1;32m----> 7\u001b[0m     choice \u001b[38;5;241m=\u001b[39m \u001b[38;5;28minput\u001b[39m(\u001b[38;5;124m\"\u001b[39m\u001b[38;5;124mWhat do you want to do? \u001b[39m\u001b[38;5;124m\"\u001b[39m)\u001b[38;5;241m.\u001b[39mlower()\n\u001b[0;32m      9\u001b[0m     \u001b[38;5;28;01mif\u001b[39;00m choice \u001b[38;5;241m==\u001b[39m \u001b[38;5;124m\"\u001b[39m\u001b[38;5;124maccount created\u001b[39m\u001b[38;5;124m\"\u001b[39m:\n\u001b[0;32m     10\u001b[0m         num_account \u001b[38;5;241m=\u001b[39m \u001b[38;5;28mint\u001b[39m(\u001b[38;5;28minput\u001b[39m(\u001b[38;5;124m\"\u001b[39m\u001b[38;5;124mHow many accounts do you want to create? \u001b[39m\u001b[38;5;124m\"\u001b[39m))\n",
      "File \u001b[1;32m~\\anaconda3\\Lib\\site-packages\\ipykernel\\kernelbase.py:1262\u001b[0m, in \u001b[0;36mKernel.raw_input\u001b[1;34m(self, prompt)\u001b[0m\n\u001b[0;32m   1260\u001b[0m     msg \u001b[38;5;241m=\u001b[39m \u001b[38;5;124m\"\u001b[39m\u001b[38;5;124mraw_input was called, but this frontend does not support input requests.\u001b[39m\u001b[38;5;124m\"\u001b[39m\n\u001b[0;32m   1261\u001b[0m     \u001b[38;5;28;01mraise\u001b[39;00m StdinNotImplementedError(msg)\n\u001b[1;32m-> 1262\u001b[0m \u001b[38;5;28;01mreturn\u001b[39;00m \u001b[38;5;28mself\u001b[39m\u001b[38;5;241m.\u001b[39m_input_request(\n\u001b[0;32m   1263\u001b[0m     \u001b[38;5;28mstr\u001b[39m(prompt),\n\u001b[0;32m   1264\u001b[0m     \u001b[38;5;28mself\u001b[39m\u001b[38;5;241m.\u001b[39m_parent_ident[\u001b[38;5;124m\"\u001b[39m\u001b[38;5;124mshell\u001b[39m\u001b[38;5;124m\"\u001b[39m],\n\u001b[0;32m   1265\u001b[0m     \u001b[38;5;28mself\u001b[39m\u001b[38;5;241m.\u001b[39mget_parent(\u001b[38;5;124m\"\u001b[39m\u001b[38;5;124mshell\u001b[39m\u001b[38;5;124m\"\u001b[39m),\n\u001b[0;32m   1266\u001b[0m     password\u001b[38;5;241m=\u001b[39m\u001b[38;5;28;01mFalse\u001b[39;00m,\n\u001b[0;32m   1267\u001b[0m )\n",
      "File \u001b[1;32m~\\anaconda3\\Lib\\site-packages\\ipykernel\\kernelbase.py:1305\u001b[0m, in \u001b[0;36mKernel._input_request\u001b[1;34m(self, prompt, ident, parent, password)\u001b[0m\n\u001b[0;32m   1302\u001b[0m \u001b[38;5;28;01mexcept\u001b[39;00m \u001b[38;5;167;01mKeyboardInterrupt\u001b[39;00m:\n\u001b[0;32m   1303\u001b[0m     \u001b[38;5;66;03m# re-raise KeyboardInterrupt, to truncate traceback\u001b[39;00m\n\u001b[0;32m   1304\u001b[0m     msg \u001b[38;5;241m=\u001b[39m \u001b[38;5;124m\"\u001b[39m\u001b[38;5;124mInterrupted by user\u001b[39m\u001b[38;5;124m\"\u001b[39m\n\u001b[1;32m-> 1305\u001b[0m     \u001b[38;5;28;01mraise\u001b[39;00m \u001b[38;5;167;01mKeyboardInterrupt\u001b[39;00m(msg) \u001b[38;5;28;01mfrom\u001b[39;00m \u001b[38;5;28;01mNone\u001b[39;00m\n\u001b[0;32m   1306\u001b[0m \u001b[38;5;28;01mexcept\u001b[39;00m \u001b[38;5;167;01mException\u001b[39;00m:\n\u001b[0;32m   1307\u001b[0m     \u001b[38;5;28mself\u001b[39m\u001b[38;5;241m.\u001b[39mlog\u001b[38;5;241m.\u001b[39mwarning(\u001b[38;5;124m\"\u001b[39m\u001b[38;5;124mInvalid Message:\u001b[39m\u001b[38;5;124m\"\u001b[39m, exc_info\u001b[38;5;241m=\u001b[39m\u001b[38;5;28;01mTrue\u001b[39;00m)\n",
      "\u001b[1;31mKeyboardInterrupt\u001b[0m: Interrupted by user"
     ]
    }
   ],
   "source": [
    "# Bank Management System\n",
    "account_data = {}\n",
    "run = True\n",
    "\n",
    "while run:\n",
    "    print(\"\\nOptions: account created, deposit, withdraw, balance, exit\")\n",
    "    choice = input(\"What do you want to do? \").lower()\n",
    "    \n",
    "    if choice == \"account created\":\n",
    "        num_account = int(input(\"How many accounts do you want to create? \"))\n",
    "        for i in range(num_account):\n",
    "            name = input(\"Enter the account holder's name: \")\n",
    "            number = input(\"Enter the account number: \")\n",
    "            balance = 0\n",
    "            account_data[name] = {'account_number': number, 'balance': balance}\n",
    "            print(f\"Account created: {name} - {number} with balance: {balance} \")\n",
    "\n",
    "    elif choice == \"deposit\":\n",
    "        name = input(\"Enter the account name to deposit money: \")\n",
    "        if name in account_data:\n",
    "            amount = float(input(\"Enter the deposit amount: \"))\n",
    "            account_data[name]['balance'] += amount\n",
    "            print(f\"Deposited {amount} to {name}'s account. New balance: {account_data[name]['balance']}\")\n",
    "        else:\n",
    "            print(\"Account not found!\")\n",
    "\n",
    "    elif choice == \"withdraw\":\n",
    "        name = input(\"Enter the account name to withdraw money: \")\n",
    "        if name in account_data:\n",
    "            amount = float(input(\"Enter the withdrawal amount: \"))\n",
    "            if amount <= account_data[name]['balance']:\n",
    "                account_data[name]['balance'] -= amount\n",
    "                print(f\"Withdrawn {amount} from {name}'s account. New balance: {account_data[name]['balance']}\")\n",
    "            else:\n",
    "                print(\"Insufficient funds!\")\n",
    "        else:\n",
    "            print(\"Account not found!\")\n",
    "\n",
    "    elif choice == \"balance\":\n",
    "        name = input(\"Enter the account name to check balance: \")\n",
    "        if name in account_data:\n",
    "            print(f\"{name}'s account balance: {account_data[name]['balance']}\")\n",
    "        else:\n",
    "            print(\"Account not found!\")\n",
    "\n",
    "    elif choice == \"exit\":\n",
    "        print(\"Exiting the system. Goodbye!\")\n",
    "        run = False\n",
    "\n",
    "    else:\n",
    "        print(\"Invalid option! Please choose a valid option.\")"
   ]
  },
  {
   "cell_type": "code",
   "execution_count": 56,
   "id": "a28ad259-7fc6-4a44-9727-995e75400d6b",
   "metadata": {},
   "outputs": [
    {
     "name": "stdout",
     "output_type": "stream",
     "text": [
      "\n",
      "Options: package, ticket booking, bill, quit\n"
     ]
    },
    {
     "name": "stdin",
     "output_type": "stream",
     "text": [
      "What do you want to do?  packages\n"
     ]
    },
    {
     "name": "stdout",
     "output_type": "stream",
     "text": [
      "hii {\n",
      "        1: \n",
      "            \"location\": \"Kasol, Himachal Pradesh\",\n",
      "            \"known_for\": \"Scenic beauty, Parvati River, trekking (e.g., Kheerganga)\",\n",
      "            \"budget\": \"₹3,000 - ₹7,000 for a 3-4 day trip (accommodation, food, travel)\",\n",
      "            \"highlights\": \"Backpacker vibe, cafes, budget hostels, camping, nature trails\"\n",
      "        \n",
      "        2: \n",
      "            \"location\": \"McLeod Ganj, Himachal Pradesh\",\n",
      "            \"known_for\": \"Tibetan culture, monasteries, trekking (e.g., Triund)\",\n",
      "            \"budget\": \"₹4,000 - ₹8,000 for 3-4 days (accommodation, food, travel)\",\n",
      "            \"highlights\": \"Dalai Lama's temple, Bhagsu Falls, Triund Trek, cafes, budget hotels\"\n",
      "        \n",
      "        3: \n",
      "            \"location\": \"Bir Billing, Himachal Pradesh\",\n",
      "            \"known_for\": \"Paragliding capital of India, monasteries, trekking\",\n",
      "            \"budget\": \"₹4,000 - ₹8,000 for a 3-day trip (accommodation, food, travel)\",\n",
      "            \"highlights\": \"Paragliding (₹2,000-3,000), peaceful monasteries, trekking\"\n",
      "        \n",
      "         4: \n",
      "            \"location\": \"Tirthan Valley, Himachal Pradesh\",\n",
      "             \"known_for\": \"Offbeat destination, riverside camping, Great Himalayan National Park\",\n",
      "             \"budget\": \"₹5,000 - ₹10,000 for 3-4 days (accommodation, food, travel)\",\n",
      "            \"highlights\": \"Nature trails, trout fishing, homestays, scenic spots\"\n",
      "        \n",
      "        5:\n",
      "            \"location\": \"Rishikesh, Uttarakhand\",\n",
      "        \"known_for\": \"Adventure sports, yoga, the Ganges river\",\n",
      "            \"budget\": \"₹3,000 - ₹6,000 for 3-4 days (accommodation, food, travel)\",\n",
      "            \"highlights\": \"River rafting (₹500-1,500), yoga retreats, Ganga Aarti, budget ashrams/hostels\"\n",
      "        \n",
      "        6: \n",
      "            \"location\": \"Chopta, Uttarakhand\",\n",
      "            \"budget\": \"₹4,000 - ₹8,000 for 3-4 days (accommodation, food, travel)\",\n",
      "            \"highlights\": \"Camping, peaceful surroundings, mountain views, trekking trails\"\n",
      "        \n",
      "}\n",
      "\n",
      "Options: package, ticket booking, bill, quit\n"
     ]
    },
    {
     "ename": "KeyboardInterrupt",
     "evalue": "Interrupted by user",
     "output_type": "error",
     "traceback": [
      "\u001b[1;31m---------------------------------------------------------------------------\u001b[0m",
      "\u001b[1;31mKeyboardInterrupt\u001b[0m                         Traceback (most recent call last)",
      "Cell \u001b[1;32mIn[56], line 10\u001b[0m\n\u001b[0;32m      8\u001b[0m \u001b[38;5;28;01mwhile\u001b[39;00m run:\n\u001b[0;32m      9\u001b[0m     \u001b[38;5;28mprint\u001b[39m(\u001b[38;5;124m\"\u001b[39m\u001b[38;5;130;01m\\n\u001b[39;00m\u001b[38;5;124mOptions: package, ticket booking, bill, quit\u001b[39m\u001b[38;5;124m\"\u001b[39m)\n\u001b[1;32m---> 10\u001b[0m     choice \u001b[38;5;241m=\u001b[39m \u001b[38;5;28minput\u001b[39m(\u001b[38;5;124m\"\u001b[39m\u001b[38;5;124mWhat do you want to do? \u001b[39m\u001b[38;5;124m\"\u001b[39m)\u001b[38;5;241m.\u001b[39mlower()\n\u001b[0;32m     13\u001b[0m    \u001b[38;5;66;03m# Package data stored in a dictionary\u001b[39;00m\n\u001b[0;32m     15\u001b[0m     \u001b[38;5;28;01mif\u001b[39;00m choice \u001b[38;5;241m==\u001b[39m \u001b[38;5;124m\"\u001b[39m\u001b[38;5;124mpackages\u001b[39m\u001b[38;5;124m\"\u001b[39m:\n",
      "File \u001b[1;32m~\\anaconda3\\Lib\\site-packages\\ipykernel\\kernelbase.py:1262\u001b[0m, in \u001b[0;36mKernel.raw_input\u001b[1;34m(self, prompt)\u001b[0m\n\u001b[0;32m   1260\u001b[0m     msg \u001b[38;5;241m=\u001b[39m \u001b[38;5;124m\"\u001b[39m\u001b[38;5;124mraw_input was called, but this frontend does not support input requests.\u001b[39m\u001b[38;5;124m\"\u001b[39m\n\u001b[0;32m   1261\u001b[0m     \u001b[38;5;28;01mraise\u001b[39;00m StdinNotImplementedError(msg)\n\u001b[1;32m-> 1262\u001b[0m \u001b[38;5;28;01mreturn\u001b[39;00m \u001b[38;5;28mself\u001b[39m\u001b[38;5;241m.\u001b[39m_input_request(\n\u001b[0;32m   1263\u001b[0m     \u001b[38;5;28mstr\u001b[39m(prompt),\n\u001b[0;32m   1264\u001b[0m     \u001b[38;5;28mself\u001b[39m\u001b[38;5;241m.\u001b[39m_parent_ident[\u001b[38;5;124m\"\u001b[39m\u001b[38;5;124mshell\u001b[39m\u001b[38;5;124m\"\u001b[39m],\n\u001b[0;32m   1265\u001b[0m     \u001b[38;5;28mself\u001b[39m\u001b[38;5;241m.\u001b[39mget_parent(\u001b[38;5;124m\"\u001b[39m\u001b[38;5;124mshell\u001b[39m\u001b[38;5;124m\"\u001b[39m),\n\u001b[0;32m   1266\u001b[0m     password\u001b[38;5;241m=\u001b[39m\u001b[38;5;28;01mFalse\u001b[39;00m,\n\u001b[0;32m   1267\u001b[0m )\n",
      "File \u001b[1;32m~\\anaconda3\\Lib\\site-packages\\ipykernel\\kernelbase.py:1305\u001b[0m, in \u001b[0;36mKernel._input_request\u001b[1;34m(self, prompt, ident, parent, password)\u001b[0m\n\u001b[0;32m   1302\u001b[0m \u001b[38;5;28;01mexcept\u001b[39;00m \u001b[38;5;167;01mKeyboardInterrupt\u001b[39;00m:\n\u001b[0;32m   1303\u001b[0m     \u001b[38;5;66;03m# re-raise KeyboardInterrupt, to truncate traceback\u001b[39;00m\n\u001b[0;32m   1304\u001b[0m     msg \u001b[38;5;241m=\u001b[39m \u001b[38;5;124m\"\u001b[39m\u001b[38;5;124mInterrupted by user\u001b[39m\u001b[38;5;124m\"\u001b[39m\n\u001b[1;32m-> 1305\u001b[0m     \u001b[38;5;28;01mraise\u001b[39;00m \u001b[38;5;167;01mKeyboardInterrupt\u001b[39;00m(msg) \u001b[38;5;28;01mfrom\u001b[39;00m \u001b[38;5;28;01mNone\u001b[39;00m\n\u001b[0;32m   1306\u001b[0m \u001b[38;5;28;01mexcept\u001b[39;00m \u001b[38;5;167;01mException\u001b[39;00m:\n\u001b[0;32m   1307\u001b[0m     \u001b[38;5;28mself\u001b[39m\u001b[38;5;241m.\u001b[39mlog\u001b[38;5;241m.\u001b[39mwarning(\u001b[38;5;124m\"\u001b[39m\u001b[38;5;124mInvalid Message:\u001b[39m\u001b[38;5;124m\"\u001b[39m, exc_info\u001b[38;5;241m=\u001b[39m\u001b[38;5;28;01mTrue\u001b[39;00m)\n",
      "\u001b[1;31mKeyboardInterrupt\u001b[0m: Interrupted by user"
     ]
    }
   ],
   "source": [
    "# trip\n",
    "# chose package\n",
    "#how many people enter\n",
    "# how lunch or drink \n",
    "# billtrip = {}\n",
    "run = True\n",
    "while run:\n",
    "    print(\"\\nOptions: package, ticket booking, bill, quit\")\n",
    "    choice = input(\"What do you want to do? \").lower()\n",
    "   # Package data stored in a dictionary\n",
    "    if choice == \"packages\":\n",
    "        packages = \"\"\"{\n",
    "        1: \n",
    "            \"location\": \"Kasol, Himachal Pradesh\",\n",
    "            \"known_for\": \"Scenic beauty, Parvati River, trekking (e.g., Kheerganga)\",\n",
    "            \"budget\": \"₹3,000 - ₹7,000 for a 3-4 day trip (accommodation, food, travel)\",\n",
    "            \"highlights\": \"Backpacker vibe, cafes, budget hostels, camping, nature trails\"\n",
    "        \n",
    "        2: \n",
    "            \"location\": \"McLeod Ganj, Himachal Pradesh\",\n",
    "            \"known_for\": \"Tibetan culture, monasteries, trekking (e.g., Triund)\",\n",
    "            \"budget\": \"₹4,000 - ₹8,000 for 3-4 days (accommodation, food, travel)\",\n",
    "            \"highlights\": \"Dalai Lama's temple, Bhagsu Falls, Triund Trek, cafes, budget hotels\"\n",
    "        \n",
    "        3: \n",
    "            \"location\": \"Bir Billing, Himachal Pradesh\",\n",
    "            \"known_for\": \"Paragliding capital of India, monasteries, trekking\",\n",
    "            \"budget\": \"₹4,000 - ₹8,000 for a 3-day trip (accommodation, food, travel)\",\n",
    "            \"highlights\": \"Paragliding (₹2,000-3,000), peaceful monasteries, trekking\"\n",
    "        \n",
    "         4: \n",
    "            \"location\": \"Tirthan Valley, Himachal Pradesh\",\n",
    "             \"known_for\": \"Offbeat destination, riverside camping, Great Himalayan National Park\",\n",
    "             \"budget\": \"₹5,000 - ₹10,000 for 3-4 days (accommodation, food, travel)\",\n",
    "            \"highlights\": \"Nature trails, trout fishing, homestays, scenic spots\"\n",
    "        \n",
    "        5:\n",
    "            \"location\": \"Rishikesh, Uttarakhand\",\n",
    "        \"known_for\": \"Adventure sports, yoga, the Ganges river\",\n",
    "            \"budget\": \"₹3,000 - ₹6,000 for 3-4 days (accommodation, food, travel)\",\n",
    "            \"highlights\": \"River rafting (₹500-1,500), yoga retreats, Ganga Aarti, budget ashrams/hostels\"\n",
    "        \n",
    "        6: \n",
    "            \"location\": \"Chopta, Uttarakhand\",\n",
    "            \"budget\": \"₹4,000 - ₹8,000 for 3-4 days (accommodation, food, travel)\",\n",
    "            \"highlights\": \"Camping, peaceful surroundings, mountain views, trekking trails\"\n",
    "        \n",
    "}\"\"\"\n",
    "    print(\"hii\",packages)\n",
    "\n",
    "# print(f\"{idx}. {details['location']}\\n   - Known for: {details['known_for']}\\n   - Budget: {details['budget']}\\n   - Highlights: {details['highlights']}\\n\")\n",
    "# display_packages()\n",
    "\n",
    "if choice == \"ticket booking\":\n",
    "    ticket_book = int(input(\"How many tickets are being booked? \"))\n",
    "    for i in range(ticket_book):\n",
    "        name = input(\"Enter the name of the person: \")\n",
    "        age = input(\"Enter the age of the person: \")\n",
    "        gender = input(\"Enter the gender of the person: \")\n",
    "        trip[name] = {'age': age, 'gender': gender}\n",
    "elif choice == \"bill\":\n",
    "    print(\"\\nTrip Details:\")\n",
    "    for name, details in trip.items():\n",
    "        print(f\"Name: {name}, Age: {details['age']}, Gender: {details['gender']}\")\n",
    "elif choice == \"quit\":\n",
    "    print(\"Exiting the system.\")\n",
    "    run = False\n",
    "else:\n",
    "    print(\"Invalid option. Please choose again.\")"
   ]
  },
  {
   "cell_type": "code",
   "execution_count": null,
   "id": "723a4622-7469-4a0d-9a6e-c68db729e19b",
   "metadata": {},
   "outputs": [
    {
     "name": "stdout",
     "output_type": "stream",
     "text": [
      "\n",
      "Options: packages, ticket booking, bill, quit\n"
     ]
    },
    {
     "name": "stdin",
     "output_type": "stream",
     "text": [
      "What do you want to do?  packages\n"
     ]
    },
    {
     "name": "stdout",
     "output_type": "stream",
     "text": [
      "1. Kasol, Himachal Pradesh (Budget: ₹3,000 - ₹7,000 for a 3-4 day trip, Highlights: Backpacker vibe, cafes, budget hostels, camping, nature trails)\n",
      "2. McLeod Ganj, Himachal Pradesh (Budget: ₹4,000 - ₹8,000 for 3-4 days, Highlights: Dalai Lama's temple, Bhagsu Falls, Triund Trek, cafes, budget hotels)\n",
      "3. Bir Billing, Himachal Pradesh (Budget: ₹4,000 - ₹8,000 for a 3-day trip, Highlights: Paragliding (₹2,000-3,000), peaceful monasteries, trekking)\n",
      "4. Tirthan Valley, Himachal Pradesh (Budget: ₹5,000 - ₹10,000 for 3-4 days, Highlights: Nature trails, trout fishing, homestays, scenic spots)\n",
      "5. Rishikesh, Uttarakhand (Budget: ₹3,000 - ₹6,000 for 3-4 days, Highlights: River rafting (₹500-1,500), yoga retreats, Ganga Aarti, budget ashrams/hostels)\n",
      "6. Chopta, Uttarakhand (Budget: ₹4,000 - ₹8,000 for 3-4 days, Highlights: Camping, peaceful surroundings, mountain views, trekking trails)\n",
      "\n",
      "Options: packages, ticket booking, bill, quit\n"
     ]
    }
   ],
   "source": [
    "trip={}\n",
    "run = True\n",
    "while run:\n",
    "    print(\"\\nOptions: packages, ticket booking, bill, quit\")\n",
    "    choice = input(\"What do you want to do? \").lower()\n",
    "    if choice == \"packages\":\n",
    "        packages = {\n",
    "            1: {\n",
    "                \"location\": \"Kasol, Himachal Pradesh\",\n",
    "                \"known_for\": \"Scenic beauty, Parvati River, trekking (e.g., Kheerganga)\",\n",
    "                \"budget\": \"₹3,000 - ₹7,000 for a 3-4 day trip\",\n",
    "                \"highlights\": \"Backpacker vibe, cafes, budget hostels, camping, nature trails\"\n",
    "            },\n",
    "            2: {\n",
    "                \"location\": \"McLeod Ganj, Himachal Pradesh\",\n",
    "                \"known_for\": \"Tibetan culture, monasteries, trekking (e.g., Triund)\",\n",
    "                \"budget\": \"₹4,000 - ₹8,000 for 3-4 days\",\n",
    "                \"highlights\": \"Dalai Lama's temple, Bhagsu Falls, Triund Trek, cafes, budget hotels\"\n",
    "            },\n",
    "            3: {\n",
    "                \"location\": \"Bir Billing, Himachal Pradesh\",\n",
    "                \"known_for\": \"Paragliding capital of India, monasteries, trekking\",\n",
    "                \"budget\": \"₹4,000 - ₹8,000 for a 3-day trip\",\n",
    "                \"highlights\": \"Paragliding (₹2,000-3,000), peaceful monasteries, trekking\"\n",
    "            },\n",
    "            4: {\n",
    "                \"location\": \"Tirthan Valley, Himachal Pradesh\",\n",
    "                \"known_for\": \"Offbeat destination, riverside camping, Great Himalayan National Park\",\n",
    "                \"budget\": \"₹5,000 - ₹10,000 for 3-4 days\",\n",
    "                \"highlights\": \"Nature trails, trout fishing, homestays, scenic spots\"\n",
    "            },\n",
    "            5: {\n",
    "                \"location\": \"Rishikesh, Uttarakhand\",\n",
    "                \"known_for\": \"Adventure sports, yoga, the Ganges river\",\n",
    "                \"budget\": \"₹3,000 - ₹6,000 for 3-4 days\",\n",
    "                \"highlights\": \"River rafting (₹500-1,500), yoga retreats, Ganga Aarti, budget ashrams/hostels\"\n",
    "            },\n",
    "            6: {\n",
    "                \"location\": \"Chopta, Uttarakhand\",\n",
    "                \"budget\": \"₹4,000 - ₹8,000 for 3-4 days\",\n",
    "                \"highlights\": \"Camping, peaceful surroundings, mountain views, trekking trails\"\n",
    "            }\n",
    "        }\n",
    "        for i, j in packages.items():\n",
    "            print(f\"{i}. {j['location']} (Budget: {j['budget']}, Highlights: {j['highlights']})\")\n",
    "print(j)\n",
    "\n",
    "        \n",
    "if choice == \"ticket booking\":\n",
    "    ticket_book = int(input(\"How many tickets are being booked? \"))\n",
    "    for i in range(ticket_book):\n",
    "        name = input(\"Enter the name of the person: \")\n",
    "        age = input(\"Enter the age of the person: \")\n",
    "        gender = input(\"Enter the gender of the person: \")\n",
    "        trip[name] = {'age': age, 'gender': gender}\n",
    "elif choice == \"bill\":\n",
    "    print(\"\\nTrip Details:\")\n",
    "    for name, details in trip.items():\n",
    "        print(f\"Name: {name}, Age: {details['age']}, Gender: {details['gender']}\")\n",
    "elif choice == \"quit\":\n",
    "    print(\"Exiting the system.\")\n",
    "    run = False\n",
    "else:\n",
    "    print(\"Invalid option. Please choose again.\")"
   ]
  },
  {
   "cell_type": "code",
   "execution_count": null,
   "id": "f5060141-ee34-4c86-a56d-94a53d57c6d3",
   "metadata": {},
   "outputs": [
    {
     "name": "stdout",
     "output_type": "stream",
     "text": [
      "\n",
      "Options: packages, ticket booking,search, bill, quit\n"
     ]
    },
    {
     "name": "stdin",
     "output_type": "stream",
     "text": [
      "What do you want to do?  packages\n"
     ]
    },
    {
     "name": "stdout",
     "output_type": "stream",
     "text": [
      "1. Kasol, Himachal Pradesh (Budget: ₹3,000 - ₹7,000 for a 3-4 day trip, Highlights: Backpacker vibe, cafes, budget hostels, camping, nature trails)\n",
      "2. McLeod Ganj, Himachal Pradesh (Budget: ₹4,000 - ₹8,000 for 3-4 days, Highlights: Dalai Lama's temple, Bhagsu Falls, Triund Trek, cafes, budget hotels)\n",
      "3. Bir Billing, Himachal Pradesh (Budget: ₹4,000 - ₹8,000 for a 3-day trip, Highlights: Paragliding (₹2,000-3,000), peaceful monasteries, trekking)\n",
      "4. Tirthan Valley, Himachal Pradesh (Budget: ₹5,000 - ₹10,000 for 3-4 days, Highlights: Nature trails, trout fishing, homestays, scenic spots)\n",
      "5. Rishikesh, Uttarakhand (Budget: ₹3,000 - ₹6,000 for 3-4 days, Highlights: River rafting (₹500-1,500), yoga retreats, Ganga Aarti, budget ashrams/hostels)\n",
      "6. Chopta, Uttarakhand (Budget: ₹4,000 - ₹8,000 for 3-4 days, Highlights: Camping, peaceful surroundings, mountain views, trekking trails)\n"
     ]
    },
    {
     "name": "stdin",
     "output_type": "stream",
     "text": [
      "\n",
      "Enter the number of the package you want to choose:  5\n"
     ]
    },
    {
     "name": "stdout",
     "output_type": "stream",
     "text": [
      "\n",
      "You have selected: Rishikesh, Uttarakhand (Budget: ₹3,000 - ₹6,000 for 3-4 days)\n",
      "\n",
      "Options: packages, ticket booking,search, bill, quit\n"
     ]
    },
    {
     "name": "stdin",
     "output_type": "stream",
     "text": [
      "What do you want to do?  ticket booking \n"
     ]
    },
    {
     "name": "stdout",
     "output_type": "stream",
     "text": [
      "Invalid option. Please choose again.\n",
      "\n",
      "Options: packages, ticket booking,search, bill, quit\n"
     ]
    },
    {
     "name": "stdin",
     "output_type": "stream",
     "text": [
      "What do you want to do?  ticket booking\n",
      "How many tickets are being booked?  2\n",
      "Enter the name of person 1:  prashant\n",
      "Enter the age of person 1:  18\n",
      "Enter the gender of person 1:  male\n",
      "Enter the name of person 2:  dashi mam\n",
      "Enter the age of person 2:  24\n",
      "Enter the gender of person 2:  female\n"
     ]
    },
    {
     "name": "stdout",
     "output_type": "stream",
     "text": [
      "Tickets booked successfully!\n",
      "\n",
      "Options: packages, ticket booking,search, bill, quit\n"
     ]
    },
    {
     "name": "stdin",
     "output_type": "stream",
     "text": [
      "What do you want to do?  bill\n"
     ]
    },
    {
     "name": "stdout",
     "output_type": "stream",
     "text": [
      "\n",
      "Trip Details:\n",
      "Package: Rishikesh, Uttarakhand (Budget: ₹3,000 - ₹6,000 for 3-4 days)\n",
      "Name: prashant, Age: 18, Gender: male\n",
      "Name: dashi mam, Age: 24, Gender: female\n",
      "Thank you for using our services!\n",
      "\n",
      "Options: packages, ticket booking,search, bill, quit\n"
     ]
    },
    {
     "name": "stdin",
     "output_type": "stream",
     "text": [
      "What do you want to do?  search\n",
      "Which name do you want to search?  prashant\n"
     ]
    },
    {
     "name": "stdout",
     "output_type": "stream",
     "text": [
      "Name: dashi mam, Details: Age: 24, Gender: female\n",
      "\n",
      "Options: packages, ticket booking,search, bill, quit\n"
     ]
    },
    {
     "name": "stdin",
     "output_type": "stream",
     "text": [
      "What do you want to do?  search\n",
      "Which name do you want to search?  dashi mam\n"
     ]
    },
    {
     "name": "stdout",
     "output_type": "stream",
     "text": [
      "Name: dashi mam, Details: Age: 24, Gender: female\n",
      "\n",
      "Options: packages, ticket booking,search, bill, quit\n"
     ]
    }
   ],
   "source": [
    "trip = {}\n",
    "chosen_package = None  # Variable to store the chosen package\n",
    "\n",
    "run = True\n",
    "while run:\n",
    "    print(\"\\nOptions: packages, ticket booking,search, bill, quit\")\n",
    "    choice = input(\"What do you want to do? \").lower()\n",
    "\n",
    "    if choice == \"packages\":\n",
    "        packages = {\n",
    "            1: {\n",
    "                \"location\": \"Kasol, Himachal Pradesh\",\n",
    "                \"known_for\": \"Scenic beauty, Parvati River, trekking (e.g., Kheerganga)\",\n",
    "                \"budget\": \"₹3,000 - ₹7,000 for a 3-4 day trip\",\n",
    "                \"highlights\": \"Backpacker vibe, cafes, budget hostels, camping, nature trails\"\n",
    "            },\n",
    "            2: {\n",
    "                \"location\": \"McLeod Ganj, Himachal Pradesh\",\n",
    "                \"known_for\": \"Tibetan culture, monasteries, trekking (e.g., Triund)\",\n",
    "                \"budget\": \"₹4,000 - ₹8,000 for 3-4 days\",\n",
    "                \"highlights\": \"Dalai Lama's temple, Bhagsu Falls, Triund Trek, cafes, budget hotels\"\n",
    "            },\n",
    "            3: {\n",
    "                \"location\": \"Bir Billing, Himachal Pradesh\",\n",
    "                \"known_for\": \"Paragliding capital of India, monasteries, trekking\",\n",
    "                \"budget\": \"₹4,000 - ₹8,000 for a 3-day trip\",\n",
    "                \"highlights\": \"Paragliding (₹2,000-3,000), peaceful monasteries, trekking\"\n",
    "            },\n",
    "            4: {\n",
    "                \"location\": \"Tirthan Valley, Himachal Pradesh\",\n",
    "                \"known_for\": \"Offbeat destination, riverside camping, Great Himalayan National Park\",\n",
    "                \"budget\": \"₹5,000 - ₹10,000 for 3-4 days\",\n",
    "                \"highlights\": \"Nature trails, trout fishing, homestays, scenic spots\"\n",
    "            },\n",
    "            5: {\n",
    "                \"location\": \"Rishikesh, Uttarakhand\",\n",
    "                \"known_for\": \"Adventure sports, yoga, the Ganges river\",\n",
    "                \"budget\": \"₹3,000 - ₹6,000 for 3-4 days\",\n",
    "                \"highlights\": \"River rafting (₹500-1,500), yoga retreats, Ganga Aarti, budget ashrams/hostels\"\n",
    "            },\n",
    "            6: {\n",
    "                \"location\": \"Chopta, Uttarakhand\",\n",
    "                \"budget\": \"₹4,000 - ₹8,000 for 3-4 days\",\n",
    "                \"highlights\": \"Camping, peaceful surroundings, mountain views, trekking trails\"\n",
    "            }\n",
    "        }\n",
    "        for i, j in packages.items():\n",
    "            print(f\"{i}. {j['location']} (Budget: {j['budget']}, Highlights: {j['highlights']})\")\n",
    "        \n",
    "        package_choice = int(input(\"\\nEnter the number of the package you want to choose: \"))\n",
    "        if package_choice in packages:\n",
    "            chosen_package = packages[package_choice]\n",
    "            print(f\"\\nYou have selected: {chosen_package['location']} (Budget: {chosen_package['budget']})\")\n",
    "        else:\n",
    "            print(\"Invalid package number. Please try again.\")\n",
    "\n",
    "    elif choice == \"ticket booking\":\n",
    "        if not chosen_package:\n",
    "            print(\"Please select a package first from 'packages' option.\")\n",
    "        else:\n",
    "            ticket_book = int(input(\"How many tickets are being booked? \"))\n",
    "            for i in range(ticket_book):\n",
    "                name = input(f\"Enter the name of person {i+1}: \")\n",
    "                age = input(f\"Enter the age of person {i+1}: \")\n",
    "                gender = input(f\"Enter the gender of person {i+1}: \")\n",
    "                trip[name] = {'age': age, 'gender': gender}\n",
    "            print(\"Tickets booked successfully!\")\n",
    "\n",
    "    elif choice == \"bill\":\n",
    "        if not trip:\n",
    "            print(\"No tickets booked yet.\")\n",
    "        else:\n",
    "            print(\"\\nTrip Details:\")\n",
    "            print(f\"Package: {chosen_package['location']} (Budget: {chosen_package['budget']})\")\n",
    "            for name, details in trip.items():\n",
    "                print(f\"Name: {name}, Age: {details['age']}, Gender: {details['gender']}\")\n",
    "        print(\"Thank you for using our services!\")\n",
    "\n",
    "    elif choice == \"search\":\n",
    "        name == input(\"Which name do you want to search? \")\n",
    "        if name in trip:\n",
    "            print(f\"Name: {name}, Details: Age: {trip[name]['age']}, Gender: {trip[name]['gender']}\")\n",
    "        else:\n",
    "            print(\"bill not found.\")\n",
    "    elif choice == \"quit\":\n",
    "        print(\"Exiting the system.\")\n",
    "        run = False\n",
    "    else:\n",
    "        print(\"Invalid option. Please choose again.\")"
   ]
  },
  {
   "cell_type": "code",
   "execution_count": null,
   "id": "35f93ba8-7061-46fc-98b7-71f5454c87aa",
   "metadata": {},
   "outputs": [
    {
     "name": "stdin",
     "output_type": "stream",
     "text": [
      "how mant entries do you want to add? 2\n"
     ]
    }
   ],
   "source": [
    "# STUDENT MANAGEMENT SYSTEM(ADD,DELETE,ALL CONTACTS)\n",
    "students=[]\n",
    "def add():\n",
    "    entry=int(input(\"how mant entries do you want to add?\"))\n",
    "    for i in range(entry):\n",
    "        name= input(\"enter the name\")\n",
    "        age=int(input(\"enter your age\"))\n",
    "        contact_num=int(input(\"enter your number\"))\n",
    "        hobby = input(\"what is your hobby\")\n",
    "        student={\"name\":name,\"age\":age,\"contact_num\":contact_num,\"hobby\":hobby}\n",
    "        students.append(student)\n",
    "        print(\"added\")\n",
    "add()\n",
    "def search():\n",
    "    search1=input(\"which name do you want to search?\")\n",
    "    for student in students:\n",
    "        if student[\"name\"]==search1:\n",
    "            print(student)\n",
    "        # else:\n",
    "        #     print(\"not found\")\n",
    "search()\n",
    "def remove():\n",
    "    remove1=input(\"which name do you want to remove?\")\n",
    "    for student in students:\n",
    "        if student[\"name\"]==remove1:\n",
    "            students.remove(student)\n",
    "            print(\"removed successfully\")\n",
    "        else:\n",
    "            print(\"sorry not found\")\n",
    "remove()\n",
    "def display():\n",
    "    print(students)\n",
    "display()"
   ]
  },
  {
   "cell_type": "code",
   "execution_count": null,
   "id": "7a83cf92-15ad-4a62-912f-b0f0c24ac9b0",
   "metadata": {},
   "outputs": [],
   "source": []
  }
 ],
 "metadata": {
  "kernelspec": {
   "display_name": "Python 3 (ipykernel)",
   "language": "python",
   "name": "python3"
  },
  "language_info": {
   "codemirror_mode": {
    "name": "ipython",
    "version": 3
   },
   "file_extension": ".py",
   "mimetype": "text/x-python",
   "name": "python",
   "nbconvert_exporter": "python",
   "pygments_lexer": "ipython3",
   "version": "3.12.4"
  }
 },
 "nbformat": 4,
 "nbformat_minor": 5
}
